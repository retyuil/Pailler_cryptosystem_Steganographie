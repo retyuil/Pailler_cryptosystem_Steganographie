{
 "cells": [
  {
   "cell_type": "code",
   "execution_count": 21,
   "metadata": {
    "colab": {
     "base_uri": "https://localhost:8080/"
    },
    "id": "eVs8NfBmgMbk",
    "outputId": "24cf3c29-3cd4-4a13-f769-3cc67b4f6774"
   },
   "outputs": [
    {
     "name": "stdout",
     "output_type": "stream",
     "text": [
      "Requirement already satisfied: gmpy2 in c:\\users\\cheic\\appdata\\local\\programs\\python\\python310\\lib\\site-packages (2.1.5)\n"
     ]
    },
    {
     "name": "stderr",
     "output_type": "stream",
     "text": [
      "\n",
      "[notice] A new release of pip available: 22.3.1 -> 23.0.1\n",
      "[notice] To update, run: C:\\Users\\cheic\\AppData\\Local\\Programs\\Python\\Python310\\python.exe -m pip install --upgrade pip\n"
     ]
    }
   ],
   "source": [
    "# Installation de gmpy \n",
    "\n",
    "!pip install gmpy2"
   ]
  },
  {
   "cell_type": "markdown",
   "metadata": {
    "id": "hDV2Pl3fb8v1"
   },
   "source": [
    "# Importation des librairies "
   ]
  },
  {
   "cell_type": "code",
   "execution_count": 22,
   "metadata": {
    "id": "a9LcJZ-Mb5CV"
   },
   "outputs": [],
   "source": [
    "from PIL import Image\n",
    "import numpy as np\n",
    "import random\n",
    "import gmpy2\n",
    "import math\n",
    "from decimal import *"
   ]
  },
  {
   "cell_type": "markdown",
   "metadata": {
    "id": "90TxmBKvc0xR"
   },
   "source": [
    "# Fonction permettant l'application de la watermark"
   ]
  },
  {
   "cell_type": "code",
   "execution_count": 23,
   "metadata": {
    "id": "gjsttJF0dIbl"
   },
   "outputs": [],
   "source": [
    "\n",
    "def application_watermark(image,w):\n",
    "\n",
    "\t\"\"\"Cette fonction réalise l'opération de pré-markage\n",
    "\n",
    "\t\tParameters\n",
    "    ----------\n",
    "\t\timage : np.array \n",
    "\t\t\tl'image sous forme de tableau à deux dimensions \n",
    "\n",
    "\t\tw : liste de 1 et 0\n",
    "\t\t\tLe watermark à appliquer à l'image \n",
    "\n",
    "\t  Returns\n",
    "    -------\n",
    "    np.array\n",
    "        Image pré-marquée\n",
    "\t\"\"\"\n",
    "\tligne,colone = image.shape\n",
    "\tfor i in range(ligne):\n",
    "\t\tfor j in range(colone):\n",
    "\t\t\tif w[j] == 1 and (image[i][j] % 2 == 0):\n",
    "\t\t\t\timage[i][j] += 1 \n",
    "\t\t\tif w[j] == 0 and (image[i][j] % 2 == 1):\n",
    "\t\t\t\timage[i][j] -= 1\n",
    "\treturn(image)"
   ]
  },
  {
   "cell_type": "markdown",
   "metadata": {
    "id": "9rqOcNtQefOz"
   },
   "source": [
    "# Déploiment du chiffrement de Paillier"
   ]
  },
  {
   "cell_type": "code",
   "execution_count": 24,
   "metadata": {
    "id": "lqAKkG6seoV-"
   },
   "outputs": [],
   "source": [
    "\"\"\" On définit ici les paramètres nécessaires au chiffrément de Paillier \n",
    "\t\tNB: Ces paramètres peuvent être changer.\n",
    "\n",
    "\t\t** Nombre de RSA **\n",
    "    p : int\n",
    "        un grand nombre prémier \n",
    "\t\tq : int \n",
    "\t\t\t\tun grand nombre prémier \n",
    "\n",
    "\t\t** Clé publique **\n",
    "\t\tN : int \n",
    "\t\t\tmultiplication de p et q \n",
    "\n",
    "\t\t** Clé privé **\n",
    "\t\tl : int\n",
    "\t\t\tresultat de (p-1)*(q-1) : méthode de calcul de l'indicateur d'Euler dans ce cas spécifique\n",
    "\n",
    "\t\tmu : int \n",
    "\t\t\tinverse modulaire de la clé privée\n",
    "\"\"\"\n",
    "#n_length = 50\n",
    "p = 976797134979797\n",
    "q = 761463613663343\n",
    "N = p*q\n",
    "l = (p-1)*(q-1)\n",
    "##g = 1+N\n",
    "mu = gmpy2.invert(l,N)\n",
    "\n",
    "\"\"\"\n",
    "def L(u):\n",
    "\treturn((u-1)//N)\n",
    "\"\"\"\n",
    "\n",
    "def chiffrement(m,r):\n",
    "\t\"\"\"Cette fonction réalise le chiffrement de paillier sur m \n",
    "\t\t\tdans notre application m sera un bit de np.array réprésentant l'image pré-marqué \n",
    "\n",
    "\t\tParameters\n",
    "    ----------\n",
    "\t\tm : int : 1 ou 0  \n",
    "\t\t\tbit marqué de l'image pré-marqué\n",
    "\n",
    "\t\tr : int\n",
    "\t\t\taléa du chiffrement de paillier  \n",
    "\n",
    "\t  Returns\n",
    "    -------\n",
    "    int\n",
    "        m chiffré \n",
    "\t\"\"\"\n",
    "\treturn( (pow(1+N,int(m),N*N) * pow(r,N,N*N))  %  (N*N))\n",
    "\n",
    "def dechiffrement(c):\n",
    "\t\"\"\"Cette fonction réalise le déchiffrement de paillier sur c \n",
    "\t\t\tdans notre application c sera un bit de np.array réprésentant l'image avec le message \n",
    "\n",
    "\t\tParameters\n",
    "    ----------\n",
    "\t\tc : int : 1 ou 0  \n",
    "\t\t\tbit chiffré de l'image avec le message\n",
    "\n",
    "\t  Returns\n",
    "    -------\n",
    "    int\n",
    "        c dechiffré \n",
    "\t\"\"\"\n",
    "\treturn ((((pow(int(c),l,N*N))-1)//N)*mu) % N \n"
   ]
  },
  {
   "cell_type": "markdown",
   "metadata": {
    "id": "7VenvAdfetjV"
   },
   "source": [
    "# Fonctions permettant de chiffrer et de dechiffrer l'image\n"
   ]
  },
  {
   "cell_type": "code",
   "execution_count": 25,
   "metadata": {
    "id": "RE53Xm2KfMwv"
   },
   "outputs": [],
   "source": [
    "def chiffrement_image(img):\n",
    "\t\"\"\"Cette fonction réalise le chiffrement de l'image pré-marqué  \n",
    "\n",
    "\t\tParameters\n",
    "    ----------\n",
    "\t\timg : np.array  \n",
    "\t\t\tl'image pré-marqué sous forme de tableau à deux dimensions \n",
    "\n",
    "\t  Returns\n",
    "    -------\n",
    "    list \n",
    "        l'image pré-marqué chiffré  sous forme d'une liste de liste \n",
    "\t\"\"\"\n",
    "\t# Récupération des paramètres ligne et colonne de l'image pré-marqué\n",
    "\tligne,colone = img.shape\n",
    "\n",
    "\t#Construction de la liste qui va recevoir l'image pré-marqué chiffré\n",
    "\tres = [[0 for _ in range(colone)] for _ in range(ligne)]\n",
    "\n",
    "\t#Valeur de l'aléa du chiffrément de paillier\n",
    "\tr = 10\n",
    "\n",
    "\tfor i in range(ligne):\n",
    "\t\tfor j in range(colone):\n",
    "\t\t\tres[i][j] = (chiffrement((img[i][j]),r))\n",
    "\treturn res\n",
    "\n",
    "def dechiffrement_image(img):\n",
    "\t\"\"\"Cette fonction réalise le déchiffrement de l'image portant le message \n",
    "\n",
    "\t\tParameters\n",
    "    ----------\n",
    "\t\timg : list  \n",
    "\t\t\tl'image portant le message sous forme de list de list  \n",
    "\n",
    "\t  Returns\n",
    "    -------\n",
    "    list \n",
    "        l'image déchiffré sous forme d'une liste de liste \n",
    "\t\"\"\"\n",
    "\t# Récupération des paramètres ligne et colonne de l'image portant le message\n",
    "\timg = np.array(img)\n",
    "\tligne,colone = img.shape\n",
    "\n",
    "\t#Construction de la liste qui va recevoir l'image déchiffrée\n",
    "\tres = [[0 for _ in range(colone)] for _ in range(ligne)]\n",
    "\tfor i in range(ligne):\n",
    "\t\tfor j in range(colone):\n",
    "\t\t\tres[i][j] = int(dechiffrement((img[i][j])))\n",
    "\treturn res"
   ]
  },
  {
   "cell_type": "markdown",
   "metadata": {
    "id": "WpO7-Yx-6ZmR"
   },
   "source": [
    "# Fonction d'insertion le message dans l'image"
   ]
  },
  {
   "cell_type": "code",
   "execution_count": 26,
   "metadata": {
    "id": "HjAIhqIh6YQm"
   },
   "outputs": [],
   "source": [
    "def insertion_message(img_crypt,message):\n",
    "  \"\"\"Cette fonction insert le méssage dans l'image pré-marqué et chiffré \n",
    "\n",
    "\t\tParameters\n",
    "    ----------\n",
    "\t\timg_crypt : list  \n",
    "\t\t\tl'image pré-marqué et chiffré sous forme de list de list  \n",
    "\n",
    "\t  Returns\n",
    "    -------\n",
    "    np.array \n",
    "        l'image portant le méssage chiffré \n",
    "  \"\"\"\n",
    "  # Récupération des paramètres ligne et colonne de l'image chiffrée\n",
    "  img_crypt = np.array(img_crypt)\n",
    "  ligne,colone = img_crypt.shape\n",
    "  r = 10\n",
    "  for i in range(ligne):\n",
    "    for j in range(colone):\n",
    "    \n",
    "      # application de la propriété d'homomorphisme additif de Paillier cryptosystème\n",
    "      if message[j] == 0:\n",
    "        while math.floor(Decimal(img_crypt[i][j] * chiffrement(0,r))* Decimal(4/3)) % 2 != 0:\n",
    "          r = random.randint(1,N//2)\n",
    "        img_crypt[i][j] = Decimal(img_crypt[i][j] * chiffrement(0,r))\n",
    "      \n",
    "      if message[j] == 1:\n",
    "        while math.floor(Decimal(img_crypt[i][j] * chiffrement(-1,r))* Decimal(4/3)) % 2 != 1:\n",
    "          r = random.randint(1,N//2)\n",
    "        img_crypt[i][j] = Decimal(img_crypt[i][j] * chiffrement(-1,r))\n",
    "    \n",
    "  return img_crypt\n"
   ]
  },
  {
   "cell_type": "markdown",
   "metadata": {
    "id": "urg5b5fcfaQP"
   },
   "source": [
    "# Fonction d'extraction du message directement du message chiffré"
   ]
  },
  {
   "cell_type": "code",
   "execution_count": 27,
   "metadata": {
    "id": "TGekeQbogDuZ"
   },
   "outputs": [],
   "source": [
    "def extraction_msg_image_chiffre(img):\n",
    "\t\"\"\"Cette fonction extrait le méssage dans l'image directement sans se servir du watermark  \n",
    "\n",
    "\t\tParameters\n",
    "    ----------\n",
    "\t\timg : np.array  \n",
    "\t\t\tl'image avec le message sous forme de tableau à deux dimensions\n",
    "\n",
    "\t  Returns\n",
    "    -------\n",
    "    list \n",
    "        méssage inséré  \n",
    "\t\"\"\"\n",
    "\n",
    "\t# Récupération des paramètres ligne et colonne de l'image chiffrée\n",
    "\tligne,colone = img.shape\n",
    "\n",
    "\t#list qui va récevoir le message extrait\n",
    "\tresultat = []\n",
    "\n",
    "\tfor j in range(colone):\n",
    "\t\tif math.floor(Decimal(img[10][j])* Decimal(4/3)) % 2 == 0:\n",
    "\t\t\tresultat.append(0)\n",
    "\t\telse:\n",
    "\t\t\tresultat.append(1)\n",
    "\t \n",
    "\treturn resultat"
   ]
  },
  {
   "cell_type": "markdown",
   "metadata": {
    "id": "3vN-zQDRd6Av"
   },
   "source": [
    "# Fonction d'extraction du message de l'image déchiffrée"
   ]
  },
  {
   "cell_type": "code",
   "execution_count": 28,
   "metadata": {
    "id": "7ATD6c80eJ1H"
   },
   "outputs": [],
   "source": [
    "def extraction_msg_image_dechiffre(image,w):\n",
    "\t\"\"\"Cette fonction extrait le méssage dans l'image en se servant du watermark \n",
    "\n",
    "\t\tParameters\n",
    "    ----------\n",
    "\t\timg : list  \n",
    "\t\t\tl'image avec le message sous forme de list de list\n",
    "\n",
    "\t\tw : liste de 1 et 0\n",
    "\t\t\tLe watermark à appliquer à l'image \n",
    "\n",
    "\t  Returns\n",
    "    -------\n",
    "    list \n",
    "        méssage inséré  \n",
    "\t\"\"\"\n",
    "\n",
    "\t#Récupération des paramètres ligne et colonne de l'image chiffrée\n",
    "\timage = np.array(image)\n",
    "\tligne,colone = image.shape\n",
    "\n",
    "\tresultat = []\n",
    "\n",
    "\t#list qui va récevoir le message extrait\n",
    "\tresultat2 = []\n",
    "\n",
    "\tfor j in range(colone):\n",
    "\t\tif image[10][j] % 2 == 0:\n",
    "\t\t\tresultat.append(0)\n",
    "\t\telse:\n",
    "\t\t\tresultat.append(1)\n",
    "\t \n",
    "\tfor k in range(len(resultat)):\n",
    "\t\tif resultat[k] != w[k]:\n",
    "\t\t\tresultat2.append(1)\n",
    "\t\telse:\n",
    "\t\t\tresultat2.append(0)\n",
    "\t \n",
    "\treturn resultat2"
   ]
  },
  {
   "cell_type": "markdown",
   "metadata": {
    "id": "WbmvIMLjggsD"
   },
   "source": [
    "# Test du programme"
   ]
  },
  {
   "cell_type": "markdown",
   "metadata": {
    "id": "KDn7_Fk7cGH4"
   },
   "source": [
    "# Importation de l'image et transformation de l'image en noir et blanc\n"
   ]
  },
  {
   "cell_type": "code",
   "execution_count": 29,
   "metadata": {
    "colab": {
     "base_uri": "https://localhost:8080/"
    },
    "id": "ffuFrf5llGiW",
    "outputId": "e33d8e4a-d16b-41dc-edd6-e921e46b4f5e"
   },
   "outputs": [
    {
     "name": "stderr",
     "output_type": "stream",
     "text": [
      "'wget' n'est pas reconnu en tant que commande interne\n",
      "ou externe, un programme ex‚cutable ou un fichier de commandes.\n"
     ]
    }
   ],
   "source": [
    "!wget https://i.ibb.co/G3MJhht/7e7.jpg"
   ]
  },
  {
   "cell_type": "code",
   "execution_count": 30,
   "metadata": {
    "id": "bBPNS5CJcYEg"
   },
   "outputs": [],
   "source": [
    "#Permet de garder 130 chiffres après la virgule dans les calculs effectués \n",
    "getcontext().prec = 130\n",
    "\n",
    "# Ouverture image et convertion en noir et blanc\n",
    "image = Image.open('7e7.jpg').convert('L')\n",
    "image.save(\"gray_scale.jpg\")\n",
    "\n",
    "image = Image.open(\"gray_scale.jpg\")\n",
    "\n",
    "numpydata = np.array(image)\n",
    "ligne,colone = numpydata.shape\n",
    "\n",
    "#print(ligne,colone)"
   ]
  },
  {
   "cell_type": "markdown",
   "metadata": {
    "id": "PJQKFm6vdLVB"
   },
   "source": [
    "Watermark aléatoire d'une taille maximal de 600"
   ]
  },
  {
   "cell_type": "code",
   "execution_count": 31,
   "metadata": {
    "id": "dMRX_cI-dJdk"
   },
   "outputs": [],
   "source": [
    "#definition watermark\n",
    "watermark = [1, 1, 1, 1, 0, 0, 1, 1, 0, 1, 0, 0, 1, 1, 0, 1, 1, 0, 1, 0, 0, 1, 0, 1, 0, 1, 0, 1, 0, 1, 1, 1, 1, 0, 0, 1, 1, 0, 1, 1, 1, 1, 0, 0, 0, 1, 1, 0, 0, 0, 0, 0, 1, 0, 0, 0, 0, 0, 0, 0, 1, 1, 1, 0, 1, 1, 1, 1, 1, 1, 0, 0, 0, 1, 1, 1, 1, 1, 1, 1, 1, 0, 0, 0, 1, 1, 0, 0, 0, 0, 0, 0, 1, 1, 0, 0, 0, 1, 0, 0, 1, 0, 0, 0, 0, 0, 0, 1, 1, 0, 0, 0, 1, 0, 1, 1, 0, 1, 1, 1, 1, 0, 0, 0, 0, 0, 1, 1, 1, 1, 1, 0, 0, 1, 0, 0, 1, 1, 0, 1, 0, 1, 0, 0, 0, 1, 1, 1, 0, 0, 1, 1, 1, 0, 1, 0, 0, 0, 1, 0, 0, 1, 0, 1, 1, 1, 0, 0, 1, 0, 0, 0, 1, 1, 0, 1, 0, 0, 1, 0, 1, 0, 1, 1, 0, 0, 0, 1, 1, 0, 0, 0, 1, 0, 1, 0, 0, 0, 0, 0, 0, 0, 0, 0, 1, 1, 1, 0, 1, 1, 0, 1, 0, 0, 1, 0, 1, 1, 1, 1, 1, 0, 1, 1, 1, 0, 1, 1, 1, 1, 1, 0, 1, 0, 1, 1, 0, 0, 0, 1, 0, 0, 0, 1, 0, 0, 0, 0, 0, 0, 0, 1, 0, 1, 1, 1, 1, 0, 1, 0, 1, 1, 1, 1, 1, 1, 1, 1, 1, 0, 1, 1, 1, 1, 1, 0, 0, 0, 1, 1, 0, 1, 0, 1, 1, 0, 0, 1, 1, 0, 1, 0, 0, 1, 0, 1, 1, 0, 0, 0, 1, 1, 1, 1, 1, 1, 0, 0, 0, 1, 0, 0, 1, 0, 0, 0, 1, 1, 0, 0, 0, 0, 1, 1, 0, 0, 0, 1, 0, 0, 1, 1, 0, 1, 0, 0, 1, 1, 0, 1, 1, 0, 1, 1, 0, 1, 0, 0, 1, 0, 0, 0, 0, 0, 1, 0, 1, 0, 0, 0, 0, 1, 1, 0, 1, 0, 0, 1, 0, 0, 0, 1, 0, 1, 1, 1, 1, 0, 1, 1, 0, 1, 1, 1, 0, 1, 0, 1, 0, 0, 0, 1, 1, 1, 0, 0, 0, 1, 0, 1, 0, 1, 0, 1, 0, 1, 1, 0, 1, 0, 0, 1, 0, 0, 1, 1, 1, 1, 0, 1, 0, 0, 1, 1, 1, 0, 0, 0, 1, 1, 0, 1, 0, 0, 1, 1, 1, 0, 1, 0, 1, 0, 1, 0, 0, 0, 1, 0, 1, 1, 1, 0, 0, 0, 1, 1, 1, 1, 1, 0, 1, 0, 0, 1, 0, 0, 1, 1, 0, 0, 1, 0, 1, 1, 0, 1, 0, 1, 0, 1, 0, 0, 1, 1, 1, 1, 0, 0, 1, 0, 0, 1, 1, 0, 1, 0, 0, 0, 1, 0, 0, 0, 1, 0, 1, 1, 0, 1, 1, 1, 0, 1, 0, 1, 1, 1, 1, 1, 1, 0, 1, 1, 1, 1, 1, 1, 0, 0, 0, 0, 0, 0, 1, 1, 0, 0, 0, 0, 0, 1, 1, 1, 0, 1, 0, 0, 1, 0, 1, 0, 1, 1, 1, 0, 1, 0, 1, 1, 0, 1, 1, 0, 0, 0, 0, 1, 1, 0, 1, 1, 0, 0, 0, 0, 0, 1, 1, 1, 0, 0, 0, 0, 0, 0, 1, 1, 0, 1, 0, 1, 0, 1, 0, 1, 0, 1, 1, 0, 0, 0]\n",
    "watermark = watermark[0:colone]"
   ]
  },
  {
   "cell_type": "markdown",
   "metadata": {
    "id": "HRjR3IWGG1js"
   },
   "source": [
    "#Application de la watermark et sauvegarde l'image avec la watermark"
   ]
  },
  {
   "cell_type": "code",
   "execution_count": 32,
   "metadata": {
    "id": "TqK8ciaRcBz2"
   },
   "outputs": [],
   "source": [
    "# Appel à la fonction application_watermark\n",
    "image_watermaked = application_watermark(numpydata, watermark)\n",
    "\n",
    "# Conversion  en noir et blanc + sauvegarde \n",
    "image_watermaked = Image.fromarray(image_watermaked,mode=\"L\")\n",
    "image_watermaked.save(\"image_watermaked.png\")"
   ]
  },
  {
   "cell_type": "markdown",
   "metadata": {
    "id": "isJ0lAGEIpR3"
   },
   "source": [
    "# Suite de la démo sur l'image pré-marquée"
   ]
  },
  {
   "cell_type": "code",
   "execution_count": 33,
   "metadata": {
    "id": "xGHkQTF8lFDX"
   },
   "outputs": [],
   "source": [
    "#Ouverture et transformation en array de l'image avec la watermark\n",
    "image = Image.open('image_watermaked.png')\n",
    "numpydata2 = np.array(image)\n",
    "watermark = np.array(watermark)\n"
   ]
  },
  {
   "cell_type": "markdown",
   "metadata": {
    "id": "e-AFuRHHJD6J"
   },
   "source": [
    "# Ajout du message à l'image pré-marquée"
   ]
  },
  {
   "cell_type": "code",
   "execution_count": 34,
   "metadata": {
    "id": "umSDnNIheL3k"
   },
   "outputs": [],
   "source": [
    "message = [0, 1, 1, 0, 1, 1, 0, 1, 0, 0, 0, 0, 0, 0, 0, 0, 0, 0, 0, 0, 0, 0, 0, 0, 0, 0, 0, 0, 0, 0, 0, 0, 0, 0, 0, 0, 0, 0, 0, 0, 0, 0, 0, 0, 0, 0, 0, 0, 0, 0, 0, 0, 0, 0, 0, 0, 0, 0, 0, 0, 0, 0, 0, 0, 0, 0, 0, 0, 0, 0, 0, 0, 0, 0, 0, 0, 0, 0, 0, 0, 0, 0, 0, 0, 0, 0, 0, 0, 0, 0, 0, 0, 0, 0, 0, 0, 0, 0, 0, 0, 0, 0, 0, 0, 0, 0, 0, 0, 0, 0, 0, 0, 0, 0, 0, 0, 0, 0, 0, 0, 0, 0, 0, 0, 0, 0, 0, 0, 0, 0, 0, 0, 0, 0, 0, 0, 0, 0, 0, 0, 0, 0, 0, 0, 0, 0, 0, 0, 0, 0]\n",
    "img_with_message = insertion_message(chiffrement_image(numpydata2),message)\n"
   ]
  },
  {
   "cell_type": "markdown",
   "metadata": {
    "id": "YGDEuM8AJsOT"
   },
   "source": [
    "# Extraction du message inséré"
   ]
  },
  {
   "cell_type": "code",
   "execution_count": 35,
   "metadata": {
    "id": "Cg3QnMLlJOxY"
   },
   "outputs": [],
   "source": [
    "# Use case 1 : extrait le méssage dans l'image en se servant du watermark\n",
    "extract = extraction_msg_image_dechiffre(dechiffrement_image(img_with_message),watermark)\n",
    "\n",
    "# Use case 2 : extrait le méssage dans l'image sans watermark\n",
    "extract2 = extraction_msg_image_chiffre(img_with_message)\n"
   ]
  },
  {
   "cell_type": "markdown",
   "metadata": {
    "id": "nne2s2mlKf0G"
   },
   "source": [
    "# vérification"
   ]
  },
  {
   "cell_type": "code",
   "execution_count": 36,
   "metadata": {
    "id": "rEMHhwwkKht2"
   },
   "outputs": [
    {
     "name": "stdout",
     "output_type": "stream",
     "text": [
      "méssage extrait == méssage d'inséré : use case 1 ::\n",
      "OUI\n",
      "--------------------------------------------------------------------------------------------------------\n",
      "méssage extrait == méssage d'inséré : use case 2 ::\n",
      "OUI\n"
     ]
    }
   ],
   "source": [
    "print(\"méssage extrait == méssage d'inséré : use case 1 ::\")\n",
    "if (extract ==  message ):\n",
    "  print(\"OUI\")\n",
    "print(\"--------------------------------------------------------------------------------------------------------\")\n",
    "print(\"méssage extrait == méssage d'inséré : use case 2 ::\")\n",
    "if (extract2 ==  message ):\n",
    "  print(\"OUI\")"
   ]
  },
  {
   "cell_type": "code",
   "execution_count": null,
   "metadata": {},
   "outputs": [],
   "source": []
  }
 ],
 "metadata": {
  "colab": {
   "provenance": []
  },
  "kernelspec": {
   "display_name": "Python 3 (ipykernel)",
   "language": "python",
   "name": "python3"
  },
  "language_info": {
   "codemirror_mode": {
    "name": "ipython",
    "version": 3
   },
   "file_extension": ".py",
   "mimetype": "text/x-python",
   "name": "python",
   "nbconvert_exporter": "python",
   "pygments_lexer": "ipython3",
   "version": "3.10.10"
  }
 },
 "nbformat": 4,
 "nbformat_minor": 1
}
